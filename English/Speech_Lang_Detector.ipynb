{
 "cells": [
  {
   "cell_type": "markdown",
   "metadata": {},
   "source": []
  },
  {
   "cell_type": "code",
   "execution_count": 17,
   "metadata": {},
   "outputs": [
    {
     "data": {
      "text/plain": [
       "'\\nimport speech_recognition as sr\\n\\nclass SpeechRec:\\n    #https://techwithtim.net/tutorials/voice-assistant/wake-keyword/\\n    def record(self, lang=\\'en\\'):\\n        r = sr.Recognizer()\\n        with sr.Microphone() as source:\\n            audio = r.listen(source)\\n            said = \"\"\\n\\n            try:\\n                #can I detect the language?\\n                if (lang == \\'en\\') :\\n                    print(\\'Language Detected as English!\\')\\n                    said = r.recognize_google(audio, language=\\'en-US\\')\\n                elif (lang == \\'gu-IN\\') :\\n                    print(\\'Language Detected as Gujarati!\\')\\n                    said = r.recognize_google(audio, language=\"gu-IN\") \\n\\n                print(said)\\n            except Exception as e:\\n                if (str(e) != \"\"):\\n                    print(\"Exception: \" + str(e))\\n\\n        return said.lower()\\n'"
      ]
     },
     "execution_count": 17,
     "metadata": {},
     "output_type": "execute_result"
    }
   ],
   "source": [
    "'''\n",
    "import speech_recognition as sr\n",
    "\n",
    "class SpeechRec:\n",
    "    #https://techwithtim.net/tutorials/voice-assistant/wake-keyword/\n",
    "    def record(self, lang='en'):\n",
    "        r = sr.Recognizer()\n",
    "        with sr.Microphone() as source:\n",
    "            audio = r.listen(source)\n",
    "            said = \"\"\n",
    "\n",
    "            try:\n",
    "                #can I detect the language?\n",
    "                if (lang == 'en') :\n",
    "                    print('Language Detected as English!')\n",
    "                    said = r.recognize_google(audio, language='en-US')\n",
    "                elif (lang == 'gu-IN') :\n",
    "                    print('Language Detected as Gujarati!')\n",
    "                    said = r.recognize_google(audio, language=\"gu-IN\") \n",
    "\n",
    "                print(said)\n",
    "            except Exception as e:\n",
    "                if (str(e) != \"\"):\n",
    "                    print(\"Exception: \" + str(e))\n",
    "\n",
    "        return said.lower()\n",
    "'''"
   ]
  },
  {
   "cell_type": "code",
   "execution_count": 18,
   "metadata": {},
   "outputs": [
    {
     "data": {
      "text/plain": [
       "'\\nWAKE = \"computer\"\\nwhile True:\\n    text = SpeechRec().record()\\n    # language = \"en\"\\n\\n    if text.count(WAKE) > 0:\\n        text = SpeechRec().record()\\n\\n        #here I have a call to determine the intent via Snips - I\\'ve removed that and just\\n        #placed a text comparison for simplicity.  Also, to note, using Snips I can reduce\\n        #the wake word and command to remove two of these \\n        #\"text = SpeechRec().record()\" lines\\n        if (text == \\'translate from Gujarati\\'):\\n            text = SpeechRec().record(\\'gu-IN\\')\\n        else:\\n            text = SpeechRec().record()\\n\\n        #at this point I do the translation and print the value from the translation\\n'"
      ]
     },
     "execution_count": 18,
     "metadata": {},
     "output_type": "execute_result"
    }
   ],
   "source": [
    "'''\n",
    "WAKE = \"computer\"\n",
    "while True:\n",
    "    text = SpeechRec().record()\n",
    "    # language = \"en\"\n",
    "\n",
    "    if text.count(WAKE) > 0:\n",
    "        text = SpeechRec().record()\n",
    "\n",
    "        #here I have a call to determine the intent via Snips - I've removed that and just\n",
    "        #placed a text comparison for simplicity.  Also, to note, using Snips I can reduce\n",
    "        #the wake word and command to remove two of these \n",
    "        #\"text = SpeechRec().record()\" lines\n",
    "        if (text == 'translate from Gujarati'):\n",
    "            text = SpeechRec().record('gu-IN')\n",
    "        else:\n",
    "            text = SpeechRec().record()\n",
    "\n",
    "        #at this point I do the translation and print the value from the translation\n",
    "'''"
   ]
  },
  {
   "cell_type": "code",
   "execution_count": 19,
   "metadata": {},
   "outputs": [],
   "source": [
    "# import mediapipe as mp\n",
    "# from mediapipe.tasks import python\n",
    "# from mediapipe.tasks.python import text"
   ]
  },
  {
   "cell_type": "code",
   "execution_count": 20,
   "metadata": {},
   "outputs": [
    {
     "data": {
      "text/plain": [
       "'\\n# pip install google-cloud-speech\\nfrom google.cloud import speech_v1p1beta1 as speech\\n\\nclient = speech.SpeechClient()\\n\\nspeech_file = \"Audio/English.wav\"\\nfirst_lang = \"en-US\"\\nsecond_lang = \"es\"\\n\\nwith open(speech_file, \"rb\") as audio_file:\\n    content = audio_file.read()\\n\\naudio = speech.RecognitionAudio(content=content)\\n\\nconfig = speech.RecognitionConfig(\\n    encoding=speech.RecognitionConfig.AudioEncoding.LINEAR16,\\n    sample_rate_hertz=44100,\\n    audio_channel_count=2,\\n    language_code=first_lang,\\n    alternative_language_codes=[second_lang],\\n)\\n\\nprint(\"Waiting for operation to complete...\")\\nresponse = client.recognize(config=config, audio=audio)\\n\\nfor i, result in enumerate(response.results):\\n    alternative = result.alternatives[0]\\n    print(\"-\" * 20)\\n    print(f\"First alternative of result {i}: {alternative}\")\\n    print(f\"Transcript: {alternative.transcript}\")\\n\\nreturn response.results\\n'"
      ]
     },
     "execution_count": 20,
     "metadata": {},
     "output_type": "execute_result"
    }
   ],
   "source": [
    "'''\n",
    "# pip install google-cloud-speech\n",
    "from google.cloud import speech_v1p1beta1 as speech\n",
    "\n",
    "client = speech.SpeechClient()\n",
    "\n",
    "speech_file = \"Audio/English.wav\"\n",
    "first_lang = \"en-US\"\n",
    "second_lang = \"es\"\n",
    "\n",
    "with open(speech_file, \"rb\") as audio_file:\n",
    "    content = audio_file.read()\n",
    "\n",
    "audio = speech.RecognitionAudio(content=content)\n",
    "\n",
    "config = speech.RecognitionConfig(\n",
    "    encoding=speech.RecognitionConfig.AudioEncoding.LINEAR16,\n",
    "    sample_rate_hertz=44100,\n",
    "    audio_channel_count=2,\n",
    "    language_code=first_lang,\n",
    "    alternative_language_codes=[second_lang],\n",
    ")\n",
    "\n",
    "print(\"Waiting for operation to complete...\")\n",
    "response = client.recognize(config=config, audio=audio)\n",
    "\n",
    "for i, result in enumerate(response.results):\n",
    "    alternative = result.alternatives[0]\n",
    "    print(\"-\" * 20)\n",
    "    print(f\"First alternative of result {i}: {alternative}\")\n",
    "    print(f\"Transcript: {alternative.transcript}\")\n",
    "\n",
    "return response.results\n",
    "'''"
   ]
  },
  {
   "cell_type": "markdown",
   "metadata": {},
   "source": [
    "#### **Recording Audio**\n",
    "\n",
    "Audio will be detected in either English, French, Spanish or Hindi"
   ]
  },
  {
   "cell_type": "code",
   "execution_count": 21,
   "metadata": {},
   "outputs": [
    {
     "data": {
      "text/plain": [
       "'\\n#import libraries\\nimport speech_recognition as sr\\nimport numpy as np\\n\\nfrom langdetect import detect_langs\\n\\nfrom collections import defaultdict\\nfrom collections import Counter\\n\\n\\n# Initialize recognizer class (for recognizing the speech)\\nr = sr.Recognizer()\\nwith sr.Microphone() as source:\\n    audio_text = r.listen(source)\\n    \\n# recoginize_() method will throw a request error if the API is unreachable, hence using exception handling\\n    try:\\n        \\n        # Using google speech recognition\\n        text_en = r.recognize_google(audio_text)\\n        print(\\'Converting audio transcripts into text ...\\')\\n        print(text_en)\\n        %store text_en\\n        print()\\n\\n        # Adding French langauge option\\n        text_fr = r.recognize_google(audio_text, language = \"fr-FR\")\\n        print(\\'Converting audio transcripts into French text ...\\')\\n        print(text_fr)\\n        # %store text_fr\\n        print()\\n\\n        # Adding Spanish langauge option\\n        text_es = r.recognize_google(audio_text, language = \"es-AR\")\\n        print(\\'Converting audio transcripts into Spanish text ...\\')\\n        print(text_es)\\n        # %store text_es\\n        print()\\n\\n        # # Adding Hindi langauge option\\n        # text_hi = r.recognize_google(audio_text, language = \"hi-IN\")\\n        # print(\\'Converting audio transcripts into Spanish text ...\\')\\n        # print(text_hi)\\n        # print()\\n\\n    except:\\n        print(\\'Sorry.. run again...\\')\\n'"
      ]
     },
     "execution_count": 21,
     "metadata": {},
     "output_type": "execute_result"
    }
   ],
   "source": [
    "'''\n",
    "#import libraries\n",
    "import speech_recognition as sr\n",
    "import numpy as np\n",
    "\n",
    "from langdetect import detect_langs\n",
    "\n",
    "from collections import defaultdict\n",
    "from collections import Counter\n",
    "\n",
    "\n",
    "# Initialize recognizer class (for recognizing the speech)\n",
    "r = sr.Recognizer()\n",
    "with sr.Microphone() as source:\n",
    "    audio_text = r.listen(source)\n",
    "    \n",
    "# recoginize_() method will throw a request error if the API is unreachable, hence using exception handling\n",
    "    try:\n",
    "        \n",
    "        # Using google speech recognition\n",
    "        text_en = r.recognize_google(audio_text)\n",
    "        print('Converting audio transcripts into text ...')\n",
    "        print(text_en)\n",
    "        %store text_en\n",
    "        print()\n",
    "\n",
    "        # Adding French langauge option\n",
    "        text_fr = r.recognize_google(audio_text, language = \"fr-FR\")\n",
    "        print('Converting audio transcripts into French text ...')\n",
    "        print(text_fr)\n",
    "        # %store text_fr\n",
    "        print()\n",
    "\n",
    "        # Adding Spanish langauge option\n",
    "        text_es = r.recognize_google(audio_text, language = \"es-AR\")\n",
    "        print('Converting audio transcripts into Spanish text ...')\n",
    "        print(text_es)\n",
    "        # %store text_es\n",
    "        print()\n",
    "\n",
    "        # # Adding Hindi langauge option\n",
    "        # text_hi = r.recognize_google(audio_text, language = \"hi-IN\")\n",
    "        # print('Converting audio transcripts into Spanish text ...')\n",
    "        # print(text_hi)\n",
    "        # print()\n",
    "\n",
    "    except:\n",
    "        print('Sorry.. run again...')\n",
    "'''"
   ]
  },
  {
   "cell_type": "code",
   "execution_count": 22,
   "metadata": {},
   "outputs": [],
   "source": [
    "#import libraries\n",
    "import speech_recognition as sr\n",
    "import numpy as np\n",
    "\n",
    "from langdetect import detect_langs\n",
    "\n",
    "from collections import defaultdict\n",
    "from collections import Counter"
   ]
  },
  {
   "cell_type": "code",
   "execution_count": 23,
   "metadata": {},
   "outputs": [],
   "source": [
    "def audio():\n",
    "    # Initialize recognizer class (for recognizing the speech)\n",
    "    r = sr.Recognizer()\n",
    "    with sr.Microphone() as source:\n",
    "        audio_text = r.listen(source)\n",
    "        \n",
    "    # recoginize_() method will throw a request error if the API is unreachable, hence using exception handling\n",
    "        try:\n",
    "            \n",
    "            # Using google speech recognition\n",
    "            text_en = r.recognize_google(audio_text)\n",
    "            print('Converting audio transcripts into text ...')\n",
    "            print(text_en)\n",
    "            %store text_en\n",
    "            # print('Stored')\n",
    "            print()\n",
    "            # print('Leaving')\n",
    "\n",
    "            # Adding French langauge option\n",
    "            text_fr = r.recognize_google(audio_text, language = \"fr-FR\")\n",
    "            print('Converting audio transcripts into French text ...')\n",
    "            print(text_fr)\n",
    "            # %store text_fr\n",
    "            print()\n",
    "\n",
    "            # Adding Spanish langauge option\n",
    "            text_es = r.recognize_google(audio_text, language = \"es-AR\")\n",
    "            print('Converting audio transcripts into Spanish text ...')\n",
    "            print(text_es)\n",
    "            print()\n",
    "\n",
    "            # # Adding Hindi langauge option\n",
    "            # text_hi = r.recognize_google(audio_text, language = \"hi-IN\")\n",
    "            # print('Converting audio transcripts into Spanish text ...')\n",
    "            # print(text_hi)\n",
    "            # print()\n",
    "            return 1\n",
    "\n",
    "        except:\n",
    "            print('Sorry.. run again...')\n",
    "            return 0"
   ]
  },
  {
   "cell_type": "markdown",
   "metadata": {},
   "source": [
    "#### **Get Language Detected Probability**"
   ]
  },
  {
   "cell_type": "code",
   "execution_count": 24,
   "metadata": {},
   "outputs": [],
   "source": [
    "# from langdetect import detect_langs\n",
    "\n",
    "# language_prob = []\n",
    "\n",
    "# # Make into String Elements for Data Cleaning\n",
    "# detect_en = [str(i) for i in detect_langs(text_en)]\n",
    "# language_prob.append(detect_en)\n",
    "\n",
    "# detect_fr = [str(i) for i in detect_langs(text_fr)]\n",
    "# language_prob.append(detect_fr)\n",
    "\n",
    "# detect_es = [str(i) for i in detect_langs(text_es)]\n",
    "# language_prob.append(detect_es)\n",
    "\n",
    "# detect_hi = [str(i) for i in detect_langs(text_hi)]\n",
    "# language_prob.append(detect_hi)\n",
    "\n",
    "# print(language_prob)"
   ]
  },
  {
   "cell_type": "code",
   "execution_count": 25,
   "metadata": {},
   "outputs": [],
   "source": [
    "# from langdetect import detect_langs\n",
    "\n",
    "# def lang_detect(response1, response2, response3):\n",
    "#     language_prob = []\n",
    "\n",
    "#     # Make into String Elements for Data Cleaning\n",
    "#     detect_en = [str(i) for i in detect_langs(response1)]\n",
    "#     language_prob.append(detect_en)\n",
    "#     print('English: ', language_prob)\n",
    "\n",
    "#     detect_fr = [str(i) for i in detect_langs(response2)]\n",
    "#     language_prob.append(detect_fr)\n",
    "#     print('French: ', language_prob)\n",
    "\n",
    "#     detect_es = [str(i) for i in detect_langs(response3)]\n",
    "#     language_prob.append(detect_es)\n",
    "#     print('Spanish: ', language_prob)\n",
    "\n",
    "#     print(language_prob)"
   ]
  },
  {
   "cell_type": "markdown",
   "metadata": {},
   "source": [
    "#### **Sort the Language w/r to Probability**"
   ]
  },
  {
   "cell_type": "code",
   "execution_count": 26,
   "metadata": {},
   "outputs": [],
   "source": [
    "# # language_prob = []\n",
    "# language_code = []\n",
    "# lang_code = []\n",
    "\n",
    "# # language_prob = [['es:0.9999932356592219'], ['es:0.9999941641326395'], ['es:0.999996766257174'], ['ne:0.5714284946155643', 'hi:0.4285697429223616']]\n",
    "\n",
    "# # Seperate Probs and Language Codes into 2 lists\n",
    "# for i in range (0, len(language_prob)):\n",
    "\n",
    "#     for j in range (0, len(language_prob[i])):\n",
    "        \n",
    "#         # Language Code List of Lists\n",
    "#         code = language_prob[i][j][0:2]\n",
    "#         lang_code.append(code)\n",
    "\n",
    "#         # Language Probability\n",
    "#         language_prob[i][j] = language_prob[i][j][3:]\n",
    "\n",
    "#     language_code.append(lang_code)\n",
    "\n",
    "# # Make into One List instead of Lists of Lists\n",
    "# flat_list = []\n",
    "# for sublist in language_prob:\n",
    "#     for item in sublist:\n",
    "#         flat_list.append(item)\n",
    "\n",
    "# # Convert the probabilities from String to Float\n",
    "# probs = []\n",
    "# for item in flat_list:\n",
    "#     probs.append(float(item))\n",
    "\n",
    "# print('Language Code: ', lang_code)\n",
    "# print('Language Probability: ', probs)"
   ]
  },
  {
   "cell_type": "code",
   "execution_count": 27,
   "metadata": {},
   "outputs": [],
   "source": [
    "# def lang_prob(lang_probability):\n",
    "#     # language_prob = []\n",
    "#     language_code = []\n",
    "#     lang_code = []\n",
    "\n",
    "#     # language_prob = [['es:0.9999932356592219'], ['es:0.9999941641326395'], ['es:0.999996766257174'], ['ne:0.5714284946155643', 'hi:0.4285697429223616']]\n",
    "\n",
    "#     # Seperate Probs and Language Codes into 2 lists\n",
    "#     for i in range (0, len(lang_probability)):\n",
    "\n",
    "#         for j in range (0, len(lang_probability[i])):\n",
    "            \n",
    "#             # Language Code List of Lists\n",
    "#             code = lang_probability[i][j][0:2]\n",
    "#             lang_code.append(code)\n",
    "\n",
    "#             # Language Probability\n",
    "#             lang_probability[i][j] = lang_probability[i][j][3:]\n",
    "\n",
    "#         language_code.append(lang_code)\n",
    "\n",
    "#     # Make into One List instead of Lists of Lists\n",
    "#     flat_list = []\n",
    "#     for sublist in lang_probability:\n",
    "#         for item in sublist:\n",
    "#             flat_list.append(item)\n",
    "\n",
    "#     # Convert the probabilities from String to Float\n",
    "#     probs = []\n",
    "#     for item in flat_list:\n",
    "#         probs.append(float(item))\n",
    "\n",
    "#     print('Language Code: ', lang_code)\n",
    "#     print('Language Probability: ', probs)"
   ]
  },
  {
   "cell_type": "markdown",
   "metadata": {},
   "source": [
    "#### **Get Language**\n",
    "\n",
    "Make the Language Code List and Language Prob into a Dictionary & Get Language with the Highest Prob"
   ]
  },
  {
   "cell_type": "code",
   "execution_count": 28,
   "metadata": {},
   "outputs": [],
   "source": [
    "# import numpy as np\n",
    "# from collections import defaultdict\n",
    "\n",
    "# lang_counter = Counter(lang_code)\n",
    "\n",
    "# # extracting value to compare\n",
    "# test_val = list(lang_counter.values())[0]\n",
    "\n",
    "# res = True\n",
    " \n",
    "# for i in lang_counter:\n",
    "#     if lang_counter[i] != test_val:\n",
    "#         res = False\n",
    "#         break\n",
    "\n",
    "# if res == True:\n",
    "#     d = defaultdict(list)\n",
    "#     for key, value in zip(lang_code, probs):\n",
    "#         d[key].append(value)\n",
    "#     print('Original Dictionary: ', dict(d))\n",
    "\n",
    "#     # Value list mean\n",
    "#     mean_probs = {key: np.mean(val) for key, val in dict(d).items()}\n",
    "#     print('Transformed Dictionary: ', mean_probs)\n",
    "\n",
    "#     ISO_639_2 = str(max(mean_probs, key = mean_probs.get))\n",
    "#     print('Langauge ISO 639-2: ', ISO_639_2)\n",
    "\n",
    "\n",
    "# else:\n",
    "#     ISO_639_2 = min(Counter(lang_code))\n",
    "#     print('Langauge ISO 639-2: ', ISO_639_2)"
   ]
  },
  {
   "cell_type": "code",
   "execution_count": 29,
   "metadata": {},
   "outputs": [],
   "source": [
    "# import numpy as np\n",
    "# from collections import defaultdict\n",
    "\n",
    "# def ISO_639(langauge_code, probability):\n",
    "#     lang_counter = Counter(langauge_code)\n",
    "\n",
    "#     # extracting value to compare\n",
    "#     test_val = list(lang_counter.values())[0]\n",
    "\n",
    "#     res = True\n",
    "    \n",
    "#     for i in lang_counter:\n",
    "#         if lang_counter[i] != test_val:\n",
    "#             res = False\n",
    "#             break\n",
    "\n",
    "#     if res == True:\n",
    "#         d = defaultdict(list)\n",
    "#         for key, value in zip(langauge_code, probability):\n",
    "#             d[key].append(value)\n",
    "#         print('Original Dictionary: ', dict(d))\n",
    "\n",
    "#         # Value list mean\n",
    "#         mean_probs = {key: np.mean(val) for key, val in dict(d).items()}\n",
    "#         print('Transformed Dictionary: ', mean_probs)\n",
    "\n",
    "#         ISO_639_2 = str(max(mean_probs, key = mean_probs.get))\n",
    "#         print('Langauge ISO 639-2: ', ISO_639_2)\n",
    "\n",
    "\n",
    "#     else:\n",
    "#         ISO_639_2 = min(Counter(langauge_code))\n",
    "#         print('Langauge ISO 639-2: ', ISO_639_2)"
   ]
  },
  {
   "cell_type": "code",
   "execution_count": 30,
   "metadata": {},
   "outputs": [
    {
     "data": {
      "text/plain": [
       "'\\nimport pyaudio\\nimport wave\\n\\nFORMAT = pyaudio.paInt16\\n\\nCHANNELS = 1\\nRATE = 16000\\nCHUNK = int(RATE / 10)\\nRECORD_SECONDS = 5\\n\\naudio = pyaudio.PyAudio()\\n\\n# start Recording\\nstream = audio.open(format=FORMAT, channels=CHANNELS,\\n            rate=RATE, input=True,\\n            frames_per_buffer=CHUNK)\\nprint (\"recording...\")\\nframes = []\\n\\nfor i in range(0, int(RATE / CHUNK * RECORD_SECONDS)):\\n    data = stream.read(CHUNK)\\n    frames.append(data)\\nprint (\"finished recording\")\\n\\n\\n# stop Recording\\nstream.stop_stream()\\nstream.close()\\naudio.terminate()\\n\\n\\n\\nfile = open(\"newfile.raw\", \"w\")\\nfile.write(b\\'\\'.join(frames))\\nfile.close()\\n'"
      ]
     },
     "execution_count": 30,
     "metadata": {},
     "output_type": "execute_result"
    }
   ],
   "source": [
    "'''\n",
    "import pyaudio\n",
    "import wave\n",
    "\n",
    "FORMAT = pyaudio.paInt16\n",
    "\n",
    "CHANNELS = 1\n",
    "RATE = 16000\n",
    "CHUNK = int(RATE / 10)\n",
    "RECORD_SECONDS = 5\n",
    "\n",
    "audio = pyaudio.PyAudio()\n",
    "\n",
    "# start Recording\n",
    "stream = audio.open(format=FORMAT, channels=CHANNELS,\n",
    "            rate=RATE, input=True,\n",
    "            frames_per_buffer=CHUNK)\n",
    "print (\"recording...\")\n",
    "frames = []\n",
    "\n",
    "for i in range(0, int(RATE / CHUNK * RECORD_SECONDS)):\n",
    "    data = stream.read(CHUNK)\n",
    "    frames.append(data)\n",
    "print (\"finished recording\")\n",
    "\n",
    "\n",
    "# stop Recording\n",
    "stream.stop_stream()\n",
    "stream.close()\n",
    "audio.terminate()\n",
    "\n",
    "\n",
    "\n",
    "file = open(\"newfile.raw\", \"w\")\n",
    "file.write(b''.join(frames))\n",
    "file.close()\n",
    "'''"
   ]
  },
  {
   "cell_type": "code",
   "execution_count": 31,
   "metadata": {},
   "outputs": [
    {
     "data": {
      "text/plain": [
       "'\\n# import required libraries\\nimport sounddevice as sd\\nfrom scipy.io.wavfile import write\\nimport wavio as wv\\n \\n# Sampling frequency\\nfreq = 44100\\n \\n# Recording duration\\nduration = 5\\n \\n# Start recorder with the given values\\n# of duration and sample frequency\\nrecording = sd.rec(int(duration * freq),\\n                   samplerate=freq, channels=2)\\n \\n# Record audio for the given number of seconds\\nsd.wait()\\n \\n# This will convert the NumPy array to an audio\\n# file with the given sampling frequency\\nwrite(\"recording0.wav\", freq, recording)\\n \\n# Convert the NumPy array to audio file\\nwv.write(\"recording1.wav\", recording, freq, sampwidth=2)\\n'"
      ]
     },
     "execution_count": 31,
     "metadata": {},
     "output_type": "execute_result"
    }
   ],
   "source": [
    "'''\n",
    "# import required libraries\n",
    "import sounddevice as sd\n",
    "from scipy.io.wavfile import write\n",
    "import wavio as wv\n",
    " \n",
    "# Sampling frequency\n",
    "freq = 44100\n",
    " \n",
    "# Recording duration\n",
    "duration = 5\n",
    " \n",
    "# Start recorder with the given values\n",
    "# of duration and sample frequency\n",
    "recording = sd.rec(int(duration * freq),\n",
    "                   samplerate=freq, channels=2)\n",
    " \n",
    "# Record audio for the given number of seconds\n",
    "sd.wait()\n",
    " \n",
    "# This will convert the NumPy array to an audio\n",
    "# file with the given sampling frequency\n",
    "write(\"recording0.wav\", freq, recording)\n",
    " \n",
    "# Convert the NumPy array to audio file\n",
    "wv.write(\"recording1.wav\", recording, freq, sampwidth=2)\n",
    "'''"
   ]
  },
  {
   "cell_type": "code",
   "execution_count": 32,
   "metadata": {},
   "outputs": [
    {
     "data": {
      "text/plain": [
       "'\\nimport speech_recognition as sr\\n# Initialize recognizer class                                       \\nr = sr.Recognizer()\\n# audio object                                                         \\naudio = sr.AudioFile(\"recording1.wav\")\\n#read audio object and transcribe\\nwith audio as source:\\n    audio = r.record(source)                  \\n    result = r.recognize_google(audio)\\n    \\nprint(result)\\n'"
      ]
     },
     "execution_count": 32,
     "metadata": {},
     "output_type": "execute_result"
    }
   ],
   "source": [
    "'''\n",
    "import speech_recognition as sr\n",
    "# Initialize recognizer class                                       \n",
    "r = sr.Recognizer()\n",
    "# audio object                                                         \n",
    "audio = sr.AudioFile(\"recording1.wav\")\n",
    "#read audio object and transcribe\n",
    "with audio as source:\n",
    "    audio = r.record(source)                  \n",
    "    result = r.recognize_google(audio)\n",
    "    \n",
    "print(result)\n",
    "'''"
   ]
  },
  {
   "cell_type": "code",
   "execution_count": null,
   "metadata": {},
   "outputs": [],
   "source": []
  }
 ],
 "metadata": {
  "kernelspec": {
   "display_name": "ANN",
   "language": "python",
   "name": "python3"
  },
  "language_info": {
   "codemirror_mode": {
    "name": "ipython",
    "version": 3
   },
   "file_extension": ".py",
   "mimetype": "text/x-python",
   "name": "python",
   "nbconvert_exporter": "python",
   "pygments_lexer": "ipython3",
   "version": "3.10.4"
  },
  "orig_nbformat": 4
 },
 "nbformat": 4,
 "nbformat_minor": 2
}
