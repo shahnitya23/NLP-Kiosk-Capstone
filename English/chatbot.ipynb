{
 "cells": [
  {
   "attachments": {},
   "cell_type": "markdown",
   "metadata": {},
   "source": [
    "## **ChatBot**"
   ]
  },
  {
   "attachments": {},
   "cell_type": "markdown",
   "metadata": {},
   "source": [
    "#### **Importing Libraries**"
   ]
  },
  {
   "cell_type": "code",
   "execution_count": 31,
   "metadata": {},
   "outputs": [],
   "source": [
    "import random\n",
    "import json\n",
    "import pickle\n",
    "import numpy as np\n",
    "\n",
    "import pyttsx3\n",
    "\n",
    "import nltk\n",
    "from nltk.stem import WordNetLemmatizer\n",
    "\n",
    "from tensorflow.keras.models import load_model\n",
    "\n",
    "import nbimporter\n",
    "import Audio_Cleaning\n",
    "\n",
    "from deep_translator import GoogleTranslator"
   ]
  },
  {
   "cell_type": "code",
   "execution_count": 32,
   "metadata": {},
   "outputs": [],
   "source": [
    "lemmatizer = WordNetLemmatizer()\n",
    "\n",
    "# https://www.kaggle.com/code/aminianam/simple-chatbot/input\n",
    "intents = json.loads(open('Intent English.json').read())\n",
    "\n",
    "words = pickle.load(open('words.pkl', 'rb'))\n",
    "classes = pickle.load(open('classes.pkl', 'rb'))\n",
    "model = load_model('chatbotmodel.h5')"
   ]
  },
  {
   "attachments": {},
   "cell_type": "markdown",
   "metadata": {},
   "source": [
    "#### **Function for Cleaning Up the Sentences**"
   ]
  },
  {
   "cell_type": "code",
   "execution_count": 33,
   "metadata": {},
   "outputs": [],
   "source": [
    "def cleaning_up_sentence(sentence):\n",
    "    sentence_words = nltk.word_tokenize(sentence)\n",
    "    sentence_words = [lemmatizer.lemmatize(word) for word in sentence_words]\n",
    "    return sentence_words"
   ]
  },
  {
   "attachments": {},
   "cell_type": "markdown",
   "metadata": {},
   "source": [
    "#### **Function for Bag-of-Words**"
   ]
  },
  {
   "cell_type": "code",
   "execution_count": 34,
   "metadata": {},
   "outputs": [],
   "source": [
    "def bag_of_words(sentence):\n",
    "    sentence_words = cleaning_up_sentence(sentence)\n",
    "    bag = [0] * len(words)\n",
    "\n",
    "    for w in sentence_words:\n",
    "        for i, word in enumerate(words):\n",
    "            if word == w:\n",
    "                bag[i] = 1\n",
    "    \n",
    "    return np.array(bag)"
   ]
  },
  {
   "attachments": {},
   "cell_type": "markdown",
   "metadata": {},
   "source": [
    "#### **Function for Predicting**"
   ]
  },
  {
   "cell_type": "code",
   "execution_count": 35,
   "metadata": {},
   "outputs": [],
   "source": [
    "def predict_class(sentence):\n",
    "    bow = bag_of_words(sentence)\n",
    "    res = model.predict(np.array([bow]))[0]\n",
    "    ERROR_THRESHOLD = 0.25\n",
    "    result = [[i, r] for i, r in enumerate(res) if r > ERROR_THRESHOLD]\n",
    "\n",
    "    result.sort(key = lambda x: x[1], reverse = True) # highest probability first\n",
    "    return_list = []\n",
    "\n",
    "    for r in result:\n",
    "        return_list.append({'intent': classes[r[0]], 'probability': str(r[1])})\n",
    "    \n",
    "    return return_list"
   ]
  },
  {
   "attachments": {},
   "cell_type": "markdown",
   "metadata": {},
   "source": [
    "#### **Getting Response Function**"
   ]
  },
  {
   "cell_type": "code",
   "execution_count": 36,
   "metadata": {},
   "outputs": [],
   "source": [
    "def get_response(intents_list, intents_json):\n",
    "    tag = intents_list[0]['intent']\n",
    "    list_of_intents = intents_json['intents']\n",
    "\n",
    "    for i in list_of_intents:\n",
    "        if i['tag'] == tag:\n",
    "            result = random.choice(i['responses'])\n",
    "            break\n",
    "    \n",
    "    return result"
   ]
  },
  {
   "cell_type": "code",
   "execution_count": 39,
   "metadata": {},
   "outputs": [
    {
     "name": "stdout",
     "output_type": "stream",
     "text": [
      "GO! Bot is running!\n",
      "Converting audio transcripts into text ...\n",
      "Stored 'text_en' (str)\n",
      "\n",
      "Sorry.. run again...\n",
      "[['en:0.9999970117862897'], ['pt:0.9999919508244953'], ['es:0.9999953920958244']]\n",
      "You: hello how's it going\n",
      "1/1 [==============================] - 0s 23ms/step\n",
      "Bot: Welcome to the border security checkpoint. How can I assist you?\n",
      "\n",
      "Converting audio transcripts into text ...\n",
      "Stored 'text_en' (str)\n",
      "\n",
      "Converting audio transcripts into French text ...\n",
      "Stored 'text_fr' (str)\n",
      "\n",
      "Converting audio transcripts into Spanish text ...\n",
      "Stored 'text_es' (str)\n",
      "\n",
      "[['hr:0.4516030173120512', 'fr:0.4285699715344995', 'sl:0.11982562624395718'], ['fr:0.9999972773089126'], ['ca:0.5943319638441391', 'es:0.40566651919069785']]\n",
      "Langauge ISO 639-2:  fr\n",
      "You: bonjour comment ça va\n",
      "Translated FR 2 EN:  Hello how are you\n",
      "1/1 [==============================] - 0s 20ms/step\n",
      "Bot: Merci d'avoir fourni vos documents. Laissez-moi les vérifier.\n",
      "\n",
      "Converting audio transcripts into text ...\n",
      "Stored 'text_en' (str)\n",
      "\n",
      "Converting audio transcripts into French text ...\n",
      "Stored 'text_fr' (str)\n",
      "\n",
      "Converting audio transcripts into Spanish text ...\n",
      "Stored 'text_es' (str)\n",
      "\n",
      "[['es:0.8590628481459736', 'pt:0.1409371518540264'], ['fr:0.9999959635219716'], ['es:0.9999965542271976']]\n",
      "Langauge ISO 639-2:  es\n",
      "You: como estas\n",
      "Translated ES 2 EN:  how are you\n",
      "1/1 [==============================] - 0s 23ms/step\n",
      "Bot: Merci d'avoir fourni vos documents. Laissez-moi les vérifier.\n",
      "\n"
     ]
    },
    {
     "ename": "KeyboardInterrupt",
     "evalue": "",
     "output_type": "error",
     "traceback": [
      "\u001b[1;31m---------------------------------------------------------------------------\u001b[0m",
      "\u001b[1;31mKeyboardInterrupt\u001b[0m                         Traceback (most recent call last)",
      "\u001b[1;32mc:\\Users\\Nitya\\Desktop\\ENGG\\Capstone\\GitHub\\Nitya-s-Code\\English\\chatbot.ipynb Cell 13\u001b[0m line \u001b[0;36m<cell line: 8>\u001b[1;34m()\u001b[0m\n\u001b[0;32m     <a href='vscode-notebook-cell:/c%3A/Users/Nitya/Desktop/ENGG/Capstone/GitHub/Nitya-s-Code/English/chatbot.ipynb#X15sZmlsZQ%3D%3D?line=83'>84</a>\u001b[0m     engine\u001b[39m.\u001b[39mrunAndWait()\n\u001b[0;32m     <a href='vscode-notebook-cell:/c%3A/Users/Nitya/Desktop/ENGG/Capstone/GitHub/Nitya-s-Code/English/chatbot.ipynb#X15sZmlsZQ%3D%3D?line=85'>86</a>\u001b[0m \u001b[39m# message = text_en\u001b[39;00m\n\u001b[0;32m     <a href='vscode-notebook-cell:/c%3A/Users/Nitya/Desktop/ENGG/Capstone/GitHub/Nitya-s-Code/English/chatbot.ipynb#X15sZmlsZQ%3D%3D?line=86'>87</a>\u001b[0m \u001b[39m# message = input(\"You: \")\u001b[39;00m\n\u001b[0;32m     <a href='vscode-notebook-cell:/c%3A/Users/Nitya/Desktop/ENGG/Capstone/GitHub/Nitya-s-Code/English/chatbot.ipynb#X15sZmlsZQ%3D%3D?line=87'>88</a>\u001b[0m \u001b[39m# %store -r text_en\u001b[39;00m\n\u001b[1;32m   (...)\u001b[0m\n\u001b[0;32m    <a href='vscode-notebook-cell:/c%3A/Users/Nitya/Desktop/ENGG/Capstone/GitHub/Nitya-s-Code/English/chatbot.ipynb#X15sZmlsZQ%3D%3D?line=103'>104</a>\u001b[0m \n\u001b[0;32m    <a href='vscode-notebook-cell:/c%3A/Users/Nitya/Desktop/ENGG/Capstone/GitHub/Nitya-s-Code/English/chatbot.ipynb#X15sZmlsZQ%3D%3D?line=104'>105</a>\u001b[0m \u001b[39m# break\u001b[39;00m\n\u001b[1;32m--> <a href='vscode-notebook-cell:/c%3A/Users/Nitya/Desktop/ENGG/Capstone/GitHub/Nitya-s-Code/English/chatbot.ipynb#X15sZmlsZQ%3D%3D?line=106'>107</a>\u001b[0m time\u001b[39m.\u001b[39;49msleep(\u001b[39m2\u001b[39;49m)\n",
      "\u001b[1;31mKeyboardInterrupt\u001b[0m: "
     ]
    }
   ],
   "source": [
    "import import_ipynb\n",
    "import time\n",
    "# %run Users/cb28v/OneDrive - Alberta Energy Regulator/Documents/Project/Capstone/Speech Language Detector Testing.ipynb\n",
    "\n",
    "languages = ['en', 'fr', 'es']\n",
    "print('GO! Bot is running!')\n",
    "\n",
    "while True:\n",
    "    # %run ./Testing.ipynb\n",
    "    # %run ./Speech_Lang_Detector.ipynb\n",
    "    %run ./Audio_Cleaning.ipynb\n",
    "\n",
    "    possible_langs = Audio_Cleaning.lang_detect(text_en, text_fr, text_es)\n",
    "    lang_list, prob_list = Audio_Cleaning.lang_prob(possible_langs)\n",
    "    lang_ISO = Audio_Cleaning.ISO_639(lang_list, prob_list)\n",
    "\n",
    "    if languages.index(lang_ISO) == 0:\n",
    "        message = text_en\n",
    "        print('You: {}'.format(message))\n",
    "\n",
    "        if message.lower() == 'I would like to exist please':\n",
    "            break\n",
    "\n",
    "        time.sleep(1)\n",
    "\n",
    "        ints = predict_class(message)\n",
    "        res = get_response(ints, intents)\n",
    "        print('Bot: {}\\n'.format(res))\n",
    "\n",
    "        engine = pyttsx3.init()\n",
    "        voices = engine.getProperty('voices')\n",
    "        engine.setProperty('voice', voices[1].id)\n",
    "        engine.say(res)\n",
    "        engine.runAndWait()\n",
    "\n",
    "    if languages.index(lang_ISO) == 1:\n",
    "        message = text_fr\n",
    "        print('You: {}'.format(message))\n",
    "        \n",
    "        time.sleep(1)\n",
    "\n",
    "        translator_fr2en = GoogleTranslator(source = 'auto', target = 'en')\n",
    "        fr2en = translator_fr2en.translate(message)\n",
    "        print('Translated FR 2 EN: ', translator_fr2en.translate(message))\n",
    "\n",
    "        if fr2en.lower() == 'I would like to exist please':\n",
    "            break\n",
    "\n",
    "        ints = predict_class(fr2en)\n",
    "        res = get_response(ints, intents)\n",
    "        translator_en2fr = GoogleTranslator(source = 'auto', target = 'fr')\n",
    "        res_en2fr = translator_en2fr.translate(res)\n",
    "        print('Bot: {}\\n'.format(res_en2fr))\n",
    "\n",
    "        engine = pyttsx3.init()\n",
    "        voices = engine.getProperty('voices')\n",
    "        engine.setProperty('voice', voices[3].id)\n",
    "        engine.say(res_en2fr)\n",
    "        engine.runAndWait()\n",
    "\n",
    "    if languages.index(lang_ISO) == 2:\n",
    "        message = text_es\n",
    "        print('You: {}'.format(message))\n",
    "        \n",
    "        time.sleep(1)\n",
    "\n",
    "        translator_es2en = GoogleTranslator(source = 'auto', target = 'en')\n",
    "        es2en = translator_es2en.translate(message)\n",
    "        print('Translated ES 2 EN: ', translator_es2en.translate(message))\n",
    "\n",
    "        if es2en.lower() == 'I would like to exist please':\n",
    "            break\n",
    "\n",
    "        ints = predict_class(es2en)\n",
    "        res = get_response(ints, intents)\n",
    "        translator_en2es = GoogleTranslator(source = 'auto', target = 'es')\n",
    "        res_en2es = translator_en2fr.translate(res)\n",
    "        print('Bot: {}\\n'.format(res_en2es))\n",
    "\n",
    "        engine = pyttsx3.init()\n",
    "        voices = engine.getProperty('voices')\n",
    "        engine.setProperty('voice', voices[2].id)\n",
    "        engine.say(res_en2es)\n",
    "        engine.runAndWait()\n",
    "        \n",
    "    # message = text_en\n",
    "    # message = input(\"You: \")\n",
    "    # %store -r text_en\n",
    "    # message = text_en\n",
    "    # print('You: {}'.format(message))\n",
    "    # time.sleep(1)\n",
    "\n",
    "    # if text_en.lower() == 'quit':\n",
    "    #     break\n",
    "    \n",
    "    # ints = predict_class(message)\n",
    "    # res = get_response(ints, intents)\n",
    "    # print('Bot: {}'.format(res))\n",
    "    # print()\n",
    "\n",
    "    # engine = pyttsx3.init()\n",
    "    # engine.say(res)\n",
    "    # engine.runAndWait()\n",
    "\n",
    "    # break\n",
    "\n",
    "    time.sleep(2)"
   ]
  },
  {
   "cell_type": "code",
   "execution_count": null,
   "metadata": {},
   "outputs": [],
   "source": [
    "# %run ./Speech_Lang_Detector.ipynb\n",
    "%run ./Speech_Lang_Detector.ipynb"
   ]
  },
  {
   "cell_type": "code",
   "execution_count": null,
   "metadata": {},
   "outputs": [],
   "source": [
    "x = Speech_Lang_Detector.audio()\n",
    "x"
   ]
  },
  {
   "cell_type": "code",
   "execution_count": null,
   "metadata": {},
   "outputs": [],
   "source": [
    "# !pip install nbimporter\n",
    "import nbimporter\n",
    "import Audio_Cleaning"
   ]
  },
  {
   "cell_type": "code",
   "execution_count": null,
   "metadata": {},
   "outputs": [],
   "source": [
    "%run ./Audio_Cleaning.ipynb"
   ]
  },
  {
   "cell_type": "code",
   "execution_count": null,
   "metadata": {},
   "outputs": [],
   "source": [
    "text_en"
   ]
  },
  {
   "cell_type": "code",
   "execution_count": null,
   "metadata": {},
   "outputs": [],
   "source": [
    "text_fr"
   ]
  },
  {
   "cell_type": "code",
   "execution_count": null,
   "metadata": {},
   "outputs": [],
   "source": [
    "text_es"
   ]
  },
  {
   "cell_type": "code",
   "execution_count": null,
   "metadata": {},
   "outputs": [],
   "source": [
    "x = Audio_Cleaning.lang_detect(text_en, text_fr, text_es)\n",
    "x"
   ]
  },
  {
   "cell_type": "code",
   "execution_count": null,
   "metadata": {},
   "outputs": [],
   "source": [
    "a, b = Audio_Cleaning.lang_prob(x)\n",
    "print(a)\n",
    "print(b)"
   ]
  },
  {
   "cell_type": "code",
   "execution_count": null,
   "metadata": {},
   "outputs": [],
   "source": [
    "y = Audio_Cleaning.ISO_639(a, b)\n",
    "y"
   ]
  },
  {
   "cell_type": "code",
   "execution_count": null,
   "metadata": {},
   "outputs": [],
   "source": [
    "languages = ['en', 'fr', 'es']\n",
    "\n",
    "languages.index(y)"
   ]
  },
  {
   "cell_type": "code",
   "execution_count": null,
   "metadata": {},
   "outputs": [],
   "source": [
    "x = {'fr': 2, 'en': 1, 'es': 1}\n",
    "max(x, key = x.get)"
   ]
  },
  {
   "cell_type": "code",
   "execution_count": null,
   "metadata": {},
   "outputs": [
    {
     "name": "stdout",
     "output_type": "stream",
     "text": [
      "<Voice id=HKEY_LOCAL_MACHINE\\SOFTWARE\\Microsoft\\Speech\\Voices\\Tokens\\TTS_MS_EN-US_DAVID_11.0\n",
      "          name=Microsoft David Desktop - English (United States)\n",
      "          languages=[]\n",
      "          gender=None\n",
      "          age=None> HKEY_LOCAL_MACHINE\\SOFTWARE\\Microsoft\\Speech\\Voices\\Tokens\\TTS_MS_EN-US_DAVID_11.0\n",
      "<Voice id=HKEY_LOCAL_MACHINE\\SOFTWARE\\Microsoft\\Speech\\Voices\\Tokens\\TTS_MS_EN-US_ZIRA_11.0\n",
      "          name=Microsoft Zira Desktop - English (United States)\n",
      "          languages=[]\n",
      "          gender=None\n",
      "          age=None> HKEY_LOCAL_MACHINE\\SOFTWARE\\Microsoft\\Speech\\Voices\\Tokens\\TTS_MS_EN-US_ZIRA_11.0\n",
      "<Voice id=HKEY_LOCAL_MACHINE\\SOFTWARE\\Microsoft\\Speech\\Voices\\Tokens\\TTS_MS_ES-MX_SABINA_11.0\n",
      "          name=Microsoft Sabina Desktop - Spanish (Mexico)\n",
      "          languages=[]\n",
      "          gender=None\n",
      "          age=None> HKEY_LOCAL_MACHINE\\SOFTWARE\\Microsoft\\Speech\\Voices\\Tokens\\TTS_MS_ES-MX_SABINA_11.0\n",
      "<Voice id=HKEY_LOCAL_MACHINE\\SOFTWARE\\Microsoft\\Speech\\Voices\\Tokens\\TTS_MS_FR-FR_HORTENSE_11.0\n",
      "          name=Microsoft Hortense Desktop - French\n",
      "          languages=[]\n",
      "          gender=None\n",
      "          age=None> HKEY_LOCAL_MACHINE\\SOFTWARE\\Microsoft\\Speech\\Voices\\Tokens\\TTS_MS_FR-FR_HORTENSE_11.0\n"
     ]
    }
   ],
   "source": [
    "import pyttsx3\n",
    "engine = pyttsx3.init()\n",
    "voices = engine.getProperty('voices')\n",
    "for voice in voices:\n",
    "    print(voice, voice.id)"
   ]
  },
  {
   "cell_type": "code",
   "execution_count": null,
   "metadata": {},
   "outputs": [
    {
     "data": {
      "text/plain": [
       "'HKEY_LOCAL_MACHINE\\\\SOFTWARE\\\\Microsoft\\\\Speech\\\\Voices\\\\Tokens\\\\TTS_MS_FR-FR_HORTENSE_11.0'"
      ]
     },
     "execution_count": 3,
     "metadata": {},
     "output_type": "execute_result"
    }
   ],
   "source": [
    "voices[3].id"
   ]
  },
  {
   "cell_type": "code",
   "execution_count": null,
   "metadata": {},
   "outputs": [],
   "source": [
    "engine.setProperty('voice', voices[3].id)"
   ]
  }
 ],
 "metadata": {
  "kernelspec": {
   "display_name": "ANN",
   "language": "python",
   "name": "python3"
  },
  "language_info": {
   "codemirror_mode": {
    "name": "ipython",
    "version": 3
   },
   "file_extension": ".py",
   "mimetype": "text/x-python",
   "name": "python",
   "nbconvert_exporter": "python",
   "pygments_lexer": "ipython3",
   "version": "3.10.4"
  },
  "orig_nbformat": 4
 },
 "nbformat": 4,
 "nbformat_minor": 2
}
