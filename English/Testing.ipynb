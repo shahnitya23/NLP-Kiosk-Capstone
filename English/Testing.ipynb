{
 "cells": [
  {
   "cell_type": "code",
   "execution_count": 2,
   "metadata": {},
   "outputs": [
    {
     "name": "stdout",
     "output_type": "stream",
     "text": [
      "Converting audio transcripts into text ...\n",
      "hola como estas gracias de nada\n",
      "Stored 'text_en' (str)\n",
      "\n",
      "Converting audio transcripts into French text ...\n",
      "commence via Senada\n",
      "\n",
      "Converting audio transcripts into Spanish text ...\n",
      "hola cómo estás gracias de nada\n",
      "\n"
     ]
    }
   ],
   "source": [
    "#import libraries\n",
    "import speech_recognition as sr\n",
    "import numpy as np\n",
    "\n",
    "from langdetect import detect_langs\n",
    "\n",
    "from collections import defaultdict\n",
    "from collections import Counter\n",
    "\n",
    "# Initialize recognizer class (for recognizing the speech)\n",
    "r = sr.Recognizer()\n",
    "with sr.Microphone() as source:\n",
    "    audio_text = r.listen(source)\n",
    "    \n",
    "# recoginize_() method will throw a request error if the API is unreachable, hence using exception handling\n",
    "    try:\n",
    "        \n",
    "        # Using google speech recognition\n",
    "        text_en = r.recognize_google(audio_text)\n",
    "        print('Converting audio transcripts into text ...')\n",
    "        print(text_en)\n",
    "        %store text_en\n",
    "        print()\n",
    "\n",
    "        # Adding French langauge option\n",
    "        text_fr = r.recognize_google(audio_text, language = \"fr-FR\")\n",
    "        print('Converting audio transcripts into French text ...')\n",
    "        print(text_fr)\n",
    "        print()\n",
    "\n",
    "        # Adding Spanish langauge option\n",
    "        text_es = r.recognize_google(audio_text, language = \"es-AR\")\n",
    "        print('Converting audio transcripts into Spanish text ...')\n",
    "        print(text_es)\n",
    "        print()\n",
    "\n",
    "        # # Adding Hindi langauge option\n",
    "        # text_hi = r.recognize_google(audio_text, language = \"hi-IN\")\n",
    "        # print('Converting audio transcripts into Spanish text ...')\n",
    "        # print(text_hi)\n",
    "        # print()\n",
    "\n",
    "    except:\n",
    "        print('Sorry.. run again...')"
   ]
  },
  {
   "cell_type": "code",
   "execution_count": 3,
   "metadata": {},
   "outputs": [
    {
     "name": "stdout",
     "output_type": "stream",
     "text": [
      "[['es:0.9999960007940776'], ['pt:0.999993204662904'], ['es:0.9999946959148507']]\n"
     ]
    }
   ],
   "source": [
    "language_prob = []\n",
    "\n",
    "# Make into String Elements for Data Cleaning\n",
    "detect_en = [str(i) for i in detect_langs(text_en)]\n",
    "language_prob.append(detect_en)\n",
    "\n",
    "detect_fr = [str(i) for i in detect_langs(text_fr)]\n",
    "language_prob.append(detect_fr)\n",
    "\n",
    "detect_es = [str(i) for i in detect_langs(text_es)]\n",
    "language_prob.append(detect_es)\n",
    "\n",
    "print(language_prob)"
   ]
  },
  {
   "cell_type": "code",
   "execution_count": 4,
   "metadata": {},
   "outputs": [
    {
     "name": "stdout",
     "output_type": "stream",
     "text": [
      "Language Code:  ['es', 'pt', 'es']\n",
      "Language Probability:  [0.9999960007940776, 0.999993204662904, 0.9999946959148507]\n"
     ]
    }
   ],
   "source": [
    "# language_prob = []\n",
    "language_code = []\n",
    "lang_code = []\n",
    "\n",
    "# language_prob = [['es:0.9999932356592219'], ['es:0.9999941641326395'], ['es:0.999996766257174'], ['ne:0.5714284946155643', 'hi:0.4285697429223616']]\n",
    "\n",
    "# Seperate Probs and Language Codes into 2 lists\n",
    "for i in range (0, len(language_prob)):\n",
    "\n",
    "    for j in range (0, len(language_prob[i])):\n",
    "        \n",
    "        # Language Code List of Lists\n",
    "        code = language_prob[i][j][0:2]\n",
    "        lang_code.append(code)\n",
    "\n",
    "        # Language Probability\n",
    "        language_prob[i][j] = language_prob[i][j][3:]\n",
    "\n",
    "    language_code.append(lang_code)\n",
    "\n",
    "# Make into One List instead of Lists of Lists\n",
    "flat_list = []\n",
    "for sublist in language_prob:\n",
    "    for item in sublist:\n",
    "        flat_list.append(item)\n",
    "\n",
    "# Convert the probabilities from String to Float\n",
    "probs = []\n",
    "for item in flat_list:\n",
    "    probs.append(float(item))\n",
    "\n",
    "print('Language Code: ', lang_code)\n",
    "print('Language Probability: ', probs)"
   ]
  },
  {
   "cell_type": "code",
   "execution_count": 5,
   "metadata": {},
   "outputs": [
    {
     "name": "stdout",
     "output_type": "stream",
     "text": [
      "Langauge ISO 639-2:  es\n"
     ]
    }
   ],
   "source": [
    "lang_counter = dict(Counter(lang_code))\n",
    "\n",
    "# extracting value to compare\n",
    "test_val = list(lang_counter.values())[0]\n",
    "\n",
    "# What?\n",
    "res = True\n",
    " \n",
    "for i in lang_counter:\n",
    "    if lang_counter[i] != test_val:\n",
    "        res = False\n",
    "        break\n",
    "\n",
    "if res == True:\n",
    "    d = defaultdict(list)\n",
    "    for key, value in zip(lang_code, probs):\n",
    "        d[key].append(value)\n",
    "    print('Original Dictionary: ', dict(d))\n",
    "\n",
    "    # Value list mean\n",
    "    mean_probs = {key: np.mean(val) for key, val in dict(d).items()}\n",
    "    print('Transformed Dictionary: ', mean_probs)\n",
    "\n",
    "    ISO_639_2 = str(max(mean_probs, key = mean_probs.get))\n",
    "    print('Langauge ISO 639-2: ', ISO_639_2)\n",
    "\n",
    "\n",
    "else:\n",
    "    ISO_639_2 = min(Counter(lang_code))\n",
    "    print('Langauge ISO 639-2: ', ISO_639_2)"
   ]
  },
  {
   "cell_type": "code",
   "execution_count": 6,
   "metadata": {},
   "outputs": [],
   "source": [
    "from deep_translator import GoogleTranslator"
   ]
  },
  {
   "cell_type": "code",
   "execution_count": 7,
   "metadata": {},
   "outputs": [
    {
     "name": "stdout",
     "output_type": "stream",
     "text": [
      "Je m'appelle Nitya !\n"
     ]
    }
   ],
   "source": [
    "translator = GoogleTranslator(source='auto', target='fr')\n",
    "print(translator.translate(\"My name is Nitya!\"))"
   ]
  },
  {
   "cell_type": "code",
   "execution_count": 45,
   "metadata": {},
   "outputs": [],
   "source": [
    "# translator = GoogleTranslator(source='auto', target='es')\n",
    "# print(translator.translate(\"hello lady!\"))"
   ]
  },
  {
   "cell_type": "code",
   "execution_count": 46,
   "metadata": {},
   "outputs": [],
   "source": [
    "# language = ['fr', 'es']"
   ]
  },
  {
   "cell_type": "code",
   "execution_count": 47,
   "metadata": {},
   "outputs": [],
   "source": [
    "# translator = GoogleTranslator(source='auto', target=language[1])\n",
    "# print(translator.translate(\"hello lady!\"))"
   ]
  },
  {
   "cell_type": "code",
   "execution_count": null,
   "metadata": {},
   "outputs": [],
   "source": []
  }
 ],
 "metadata": {
  "kernelspec": {
   "display_name": "ANN",
   "language": "python",
   "name": "python3"
  },
  "language_info": {
   "codemirror_mode": {
    "name": "ipython",
    "version": 3
   },
   "file_extension": ".py",
   "mimetype": "text/x-python",
   "name": "python",
   "nbconvert_exporter": "python",
   "pygments_lexer": "ipython3",
   "version": "3.10.4"
  },
  "orig_nbformat": 4
 },
 "nbformat": 4,
 "nbformat_minor": 2
}
